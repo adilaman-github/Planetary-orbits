{
 "cells": [
  {
   "cell_type": "code",
   "execution_count": 22,
   "metadata": {},
   "outputs": [
    {
     "name": "stdout",
     "output_type": "stream",
     "text": [
      "Using matplotlib backend: Qt5Agg\n"
     ]
    },
    {
     "name": "stderr",
     "output_type": "stream",
     "text": [
      "/home/lucifer/anaconda3/lib/python3.7/site-packages/ipykernel_launcher.py:18: RuntimeWarning: divide by zero encountered in true_divide\n",
      "/home/lucifer/anaconda3/lib/python3.7/site-packages/ipykernel_launcher.py:18: RuntimeWarning: invalid value encountered in true_divide\n",
      "/home/lucifer/anaconda3/lib/python3.7/site-packages/ipykernel_launcher.py:18: RuntimeWarning: divide by zero encountered in true_divide\n",
      "/home/lucifer/anaconda3/lib/python3.7/site-packages/ipykernel_launcher.py:18: RuntimeWarning: divide by zero encountered in true_divide\n"
     ]
    }
   ],
   "source": [
    "%matplotlib\n",
    "from pylab import *\n",
    "from scipy.integrate import odeint\n",
    "from scipy.optimize import brentq\n",
    "import matplotlib.pyplot as plt\n",
    "import numpy as np\n",
    "import math as mat\n",
    "\n",
    "x=np.linspace(0,5,200)\n",
    "\n",
    "axes = plt.gca()\n",
    "axes.set_ylim([-10,10])\n",
    "\n",
    "mu = 1\n",
    "k = 1\n",
    "\n",
    "def V(x,l):\n",
    "    Veff = l**2/(2*mu*x**2) + (k*x**2)/2\n",
    "    return Veff\n",
    "\n",
    "plt.grid()\n",
    "plt.xlabel(\"x\")\n",
    "plt.ylabel(\"V(x)\")\n",
    "\n",
    "plt.plot(x,V(x,1),'r')\n",
    "plt.plot(x,V(x,0),'b')\n",
    "plt.plot(x,V(x,1.5),'g')\n",
    "plt.plot(x,V(x,0.65),'y')\n",
    "\n",
    "plt.legend([\"l = 1\", \"l = 0\", \"l = 1.5\", \"l = 0.65\"], loc =\"lower right\") \n",
    "plt.show()"
   ]
  },
  {
   "cell_type": "code",
   "execution_count": null,
   "metadata": {},
   "outputs": [],
   "source": []
  },
  {
   "cell_type": "code",
   "execution_count": 16,
   "metadata": {},
   "outputs": [
    {
     "name": "stdout",
     "output_type": "stream",
     "text": [
      "Using matplotlib backend: Qt5Agg\n"
     ]
    },
    {
     "name": "stderr",
     "output_type": "stream",
     "text": [
      "/home/lucifer/anaconda3/lib/python3.7/site-packages/ipykernel_launcher.py:18: RuntimeWarning: divide by zero encountered in true_divide\n",
      "/home/lucifer/anaconda3/lib/python3.7/site-packages/ipykernel_launcher.py:18: RuntimeWarning: invalid value encountered in true_divide\n",
      "/home/lucifer/anaconda3/lib/python3.7/site-packages/ipykernel_launcher.py:18: RuntimeWarning: divide by zero encountered in true_divide\n",
      "/home/lucifer/anaconda3/lib/python3.7/site-packages/ipykernel_launcher.py:18: RuntimeWarning: divide by zero encountered in true_divide\n",
      "/home/lucifer/anaconda3/lib/python3.7/site-packages/ipykernel_launcher.py:35: MatplotlibDeprecationWarning: Adding an axes using the same arguments as a previous axes currently reuses the earlier instance.  In a future version, a new instance will always be created and returned.  Meanwhile, this warning can be suppressed, and the future behavior ensured, by passing a unique label to each axes instance.\n"
     ]
    }
   ],
   "source": [
    "%matplotlib\n",
    "from pylab import *\n",
    "from scipy.integrate import odeint\n",
    "from scipy.optimize import brentq\n",
    "import matplotlib.pyplot as plt\n",
    "import numpy as np\n",
    "import math as mat\n",
    "\n",
    "x=np.linspace(0,5,200)\n",
    "\n",
    "axes = plt.gca()\n",
    "axes.set_ylim([-10,10])\n",
    "\n",
    "mu = 1\n",
    "k = 1\n",
    "\n",
    "def V(x,l):\n",
    "    Veff = l**2/(2*mu*x**2) + (k*x**2)/2\n",
    "    return Veff\n",
    "\n",
    "plt.grid()\n",
    "plt.xlabel(\"x\")\n",
    "plt.ylabel(\"V(x)\")\n",
    "\n",
    "plt.plot(x,V(x,1),'r')\n",
    "plt.plot(x,V(x,0),'b')\n",
    "plt.plot(x,V(x,1.5),'g')\n",
    "plt.plot(x,V(x,0.65),'y')\n",
    "\n",
    "plt.legend([\"l = 1\", \"l = 0\", \"l = 1.5\", \"l = 0.65\"], loc =\"lower right\") \n",
    "#plt.show()\n",
    "\n",
    "\n",
    "\n",
    "plt.axes(projection = 'polar') \n",
    "  \n",
    "b = 0.1*mat.pi\n",
    "#a = 1\n",
    "\n",
    "E = 1\n",
    "\n",
    "a= mat.sqrt(2*E/k-b**2) \n",
    "\n",
    "e = mat.sqrt(1-b**2/a**2)\n",
    "\n",
    "# containing the radian values \n",
    "rads = np.linspace(0, (2 * np.pi), 1000) \n",
    "  \n",
    "# plotting the ellipse \n",
    "for rad in rads: \n",
    "    r = mat.sqrt(((a**2)*(b**2))/((b**2)*(np.cos(rad))**2+(a**2)*(np.sin(rad))**2)) \n",
    "    plt.polar(rad, r, '.') \n",
    "  \n",
    "# display the polar plot \n",
    "plt.show() "
   ]
  },
  {
   "cell_type": "code",
   "execution_count": null,
   "metadata": {},
   "outputs": [],
   "source": []
  },
  {
   "cell_type": "code",
   "execution_count": 21,
   "metadata": {},
   "outputs": [
    {
     "name": "stdout",
     "output_type": "stream",
     "text": [
      "Using matplotlib backend: Qt5Agg\n"
     ]
    }
   ],
   "source": [
    "%matplotlib\n",
    "from pylab import *\n",
    "from scipy.integrate import odeint\n",
    "from scipy.optimize import brentq\n",
    "import matplotlib.pyplot as plt\n",
    "import numpy as np\n",
    "import math as mat\n",
    "  \n",
    "plt.axes(projection = 'polar') \n",
    "  \n",
    "\n",
    "mu = 1\n",
    "k = 5\n",
    "\n",
    "#variable l\n",
    "l = 1\n",
    "\n",
    "#variable E\n",
    "E = 1.65\n",
    "\n",
    "#E = -mu*k**2/(2*l**2)\n",
    "\n",
    "c = mu*k/l**2\n",
    "\n",
    "e = mat.sqrt(1+((2*E*l**2)/(mu*k**2)))\n",
    "\n",
    "#e = 1\n",
    "\n",
    "rads = np.linspace(0, (2 * np.pi), 1000) \n",
    "  \n",
    "# plotting the ellipse \n",
    "for rad in rads: \n",
    "    r = 1/(c*(1+(e*np.cos(rad)))) \n",
    "    plt.polar(rad, r, '.') \n",
    "  \n",
    "# display the polar plot \n",
    "plt.show() "
   ]
  },
  {
   "cell_type": "code",
   "execution_count": null,
   "metadata": {},
   "outputs": [],
   "source": []
  },
  {
   "cell_type": "code",
   "execution_count": 24,
   "metadata": {},
   "outputs": [
    {
     "name": "stdout",
     "output_type": "stream",
     "text": [
      "Using matplotlib backend: Qt5Agg\n"
     ]
    },
    {
     "name": "stderr",
     "output_type": "stream",
     "text": [
      "/home/lucifer/anaconda3/lib/python3.7/site-packages/ipykernel_launcher.py:18: RuntimeWarning: divide by zero encountered in true_divide\n",
      "/home/lucifer/anaconda3/lib/python3.7/site-packages/ipykernel_launcher.py:18: RuntimeWarning: invalid value encountered in true_divide\n",
      "/home/lucifer/anaconda3/lib/python3.7/site-packages/ipykernel_launcher.py:18: RuntimeWarning: divide by zero encountered in true_divide\n",
      "/home/lucifer/anaconda3/lib/python3.7/site-packages/ipykernel_launcher.py:18: RuntimeWarning: divide by zero encountered in true_divide\n",
      "/home/lucifer/anaconda3/lib/python3.7/site-packages/ipykernel_launcher.py:18: RuntimeWarning: divide by zero encountered in true_divide\n"
     ]
    }
   ],
   "source": [
    "%matplotlib\n",
    "from pylab import *\n",
    "from scipy.integrate import odeint\n",
    "from scipy.optimize import brentq\n",
    "import matplotlib.pyplot as plt\n",
    "import numpy as np\n",
    "import math as mat\n",
    "\n",
    "x=np.linspace(0,5,200)\n",
    "\n",
    "axes = plt.gca()\n",
    "axes.set_ylim([-10,10])\n",
    "\n",
    "mu = 1\n",
    "k = 1\n",
    "\n",
    "def V(x,l):\n",
    "    Veff = l**2/(2*mu*x**2) + (k/x)\n",
    "    return Veff\n",
    "\n",
    "plt.grid()\n",
    "plt.xlabel(\"x\")\n",
    "plt.ylabel(\"V(x)\")\n",
    "\n",
    "plt.plot(x,V(x,1),'r')\n",
    "plt.plot(x,V(x,0),'b')\n",
    "plt.plot(x,V(x,1.5),'g')\n",
    "plt.plot(x,V(x,0.65),'y')\n",
    "\n",
    "plt.legend([\"l = 1\", \"l = 0\", \"l = 1.5\", \"l = 0.65\"], loc =\"lower right\") \n",
    "plt.show()"
   ]
  },
  {
   "cell_type": "code",
   "execution_count": null,
   "metadata": {},
   "outputs": [],
   "source": []
  }
 ],
 "metadata": {
  "kernelspec": {
   "display_name": "Python 3",
   "language": "python",
   "name": "python3"
  },
  "language_info": {
   "codemirror_mode": {
    "name": "ipython",
    "version": 3
   },
   "file_extension": ".py",
   "mimetype": "text/x-python",
   "name": "python",
   "nbconvert_exporter": "python",
   "pygments_lexer": "ipython3",
   "version": "3.7.6"
  }
 },
 "nbformat": 4,
 "nbformat_minor": 4
}
